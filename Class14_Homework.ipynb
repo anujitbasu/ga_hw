{
 "cells": [
  {
   "cell_type": "code",
   "execution_count": 75,
   "metadata": {
    "collapsed": true
   },
   "outputs": [],
   "source": [
    "import pandas as pd\n",
    "from sklearn import metrics\n",
    "from sklearn.cross_validation import train_test_split\n",
    "from sklearn.feature_extraction.text import CountVectorizer\n",
    "from sklearn.naive_bayes import MultinomialNB\n",
    "\n",
    "%matplotlib inline\n",
    "import matplotlib.pyplot as plt"
   ]
  },
  {
   "cell_type": "markdown",
   "metadata": {},
   "source": [
    "**1:** Read ```yelp.csv``` into a DataFrame"
   ]
  },
  {
   "cell_type": "code",
   "execution_count": 76,
   "metadata": {
    "collapsed": true
   },
   "outputs": [],
   "source": [
    "yelp = pd.read_csv('../DAT-DC-10/data/yelp.csv')"
   ]
  },
  {
   "cell_type": "markdown",
   "metadata": {},
   "source": [
    "**2:** Create a new DataFrame that only contains the 5-star and 1-star reviews."
   ]
  },
  {
   "cell_type": "code",
   "execution_count": 77,
   "metadata": {
    "collapsed": true
   },
   "outputs": [],
   "source": [
    "yelp2 = yelp[(yelp.stars==5) | (yelp.stars==1)]"
   ]
  },
  {
   "cell_type": "markdown",
   "metadata": {},
   "source": [
    "**3:** Split the new DataFrame into training and testing sets, using the review text as the only feature and the star rating as the response."
   ]
  },
  {
   "cell_type": "code",
   "execution_count": 78,
   "metadata": {
    "collapsed": true
   },
   "outputs": [],
   "source": [
    "X = yelp2['text']\n",
    "y = yelp2['stars']\n",
    "X_train, X_test, y_train, y_test = train_test_split(X,y,random_state=123)"
   ]
  },
  {
   "cell_type": "markdown",
   "metadata": {},
   "source": [
    "**4:** Use CountVectorizer to create document-term matrices from X_train and X_test."
   ]
  },
  {
   "cell_type": "code",
   "execution_count": 79,
   "metadata": {
    "collapsed": false
   },
   "outputs": [],
   "source": [
    "# initialize CountVectorizer\n",
    "vect = CountVectorizer()\n",
    "\n",
    "# use the training data to fit the vectorizer\n",
    "vect.fit(X_train)\n",
    "\n",
    "# use the vectorizer to create DTM for the training and test data\n",
    "X_train_dtm = vect.transform(X_train)\n",
    "X_test_dtm = vect.transform(X_test)"
   ]
  },
  {
   "cell_type": "markdown",
   "metadata": {},
   "source": [
    "**5:** Use Naive Bayes to predict the star rating for reviews in the testing set, and calculate the accuracy."
   ]
  },
  {
   "cell_type": "code",
   "execution_count": 80,
   "metadata": {
    "collapsed": false
   },
   "outputs": [
    {
     "data": {
      "text/plain": [
       "0.90998043052837574"
      ]
     },
     "execution_count": 80,
     "metadata": {},
     "output_type": "execute_result"
    }
   ],
   "source": [
    "# initialize Naive Bayes\n",
    "nb = MultinomialNB()\n",
    "\n",
    "# fit using training data\n",
    "nb.fit(X_train_dtm, y_train)\n",
    "\n",
    "# predict on test data\n",
    "y_predict = nb.predict(X_test_dtm)\n",
    "\n",
    "# calculate prediction accuracy score\n",
    "metrics.accuracy_score(y_test, y_predict)"
   ]
  },
  {
   "cell_type": "markdown",
   "metadata": {},
   "source": [
    "**6:** Calculate the AUC."
   ]
  },
  {
   "cell_type": "code",
   "execution_count": 81,
   "metadata": {
    "collapsed": false
   },
   "outputs": [
    {
     "data": {
      "text/plain": [
       "0.93878865979381443"
      ]
     },
     "execution_count": 81,
     "metadata": {},
     "output_type": "execute_result"
    }
   ],
   "source": [
    "# Thanks for Hint #1\n",
    "# predict probabilities\n",
    "y_predict_prob = nb.predict_proba(X_test_dtm)[:, 1]\n",
    "\n",
    "# Thanks for Hint #2\n",
    "# Convert prediction stars 1 and 5 to class 0 and 1\n",
    "y_test2 = y_test.copy(deep=True)\n",
    "y_test2.replace(to_replace=1, value=0,inplace = True)\n",
    "y_test2.replace(to_replace=5, value=1,inplace = True)\n",
    "\n",
    "# calculate the roc_auc_score using the binary prediction and the prediction probability\n",
    "metrics.roc_auc_score(y_test2, y_predict_prob)"
   ]
  },
  {
   "cell_type": "markdown",
   "metadata": {},
   "source": [
    "**7:** Plot the ROC curve."
   ]
  },
  {
   "cell_type": "code",
   "execution_count": 82,
   "metadata": {
    "collapsed": false
   },
   "outputs": [
    {
     "data": {
      "text/plain": [
       "<matplotlib.text.Text at 0x2182ca90>"
      ]
     },
     "execution_count": 82,
     "metadata": {},
     "output_type": "execute_result"
    },
    {
     "data": {
      "image/png": "[encoded data removed]",
      "text/plain": [
       "<matplotlib.figure.Figure at 0x2182fa58>"
      ]
     },
     "metadata": {},
     "output_type": "display_data"
    }
   ],
   "source": [
    "# calculate ROC curve using using the binary prediction and the prediction probability\n",
    "fpr, tpr, thresholds = metrics.roc_curve(y_test2, y_predict_prob)\n",
    "\n",
    "# plot the false positive rate against the true positive rate\n",
    "plt.plot(fpr, tpr)\n",
    "plt.xlabel('False Positive Rate')\n",
    "plt.ylabel('True Positive Rate')"
   ]
  },
  {
   "cell_type": "markdown",
   "metadata": {},
   "source": [
    "**8:** Print the confusion matrix, and calculate the sensitivity and specificity. Comment on the results."
   ]
  },
  {
   "cell_type": "code",
   "execution_count": 95,
   "metadata": {
    "collapsed": false
   },
   "outputs": [
    {
     "name": "stdout",
     "output_type": "stream",
     "text": [
      "Confusion Matrix:\n",
      "\n",
      "[[118  76]\n",
      " [ 16 812]]\n",
      "\n",
      "\n",
      "Sensitivity = 0.980676328502\n",
      "Specificty = 0.60824742268\n"
     ]
    }
   ],
   "source": [
    "print \"Confusion Matrix:\\n\"\n",
    "cm = metrics.confusion_matrix(y_test, y_predict)\n",
    "print cm\n",
    "print  \"\\n\"\n",
    "print \"Sensitivity = \" + str(float(cm[1][1]) / float(cm[1][0] + cm[1][1]))\n",
    "print \"Specificty = \" +  str(float(cm[0][0]) / float(cm[0][0] + cm[0][1]))"
   ]
  },
  {
   "cell_type": "markdown",
   "metadata": {},
   "source": [
    "Conclusion: Model is performing better at detecting the positive reviews compared to the negative reviews."
   ]
  },
  {
   "cell_type": "markdown",
   "metadata": {},
   "source": [
    "**9:** Browse through the review text for some of the false positives and false negatives. Based on your knowledge of how Naive Bayes works, do you have any theories about why the model is incorrectly classifying these reviews?"
   ]
  },
  {
   "cell_type": "code",
   "execution_count": 97,
   "metadata": {
    "collapsed": false
   },
   "outputs": [
    {
     "data": {
      "text/plain": [
       "1297    I dined at this restaurant on a Saturday morni...\n",
       "1116    Bad quality ingredients. I ordered a red curry...\n",
       "9833    My significant other had a $25 off coupon from...\n",
       "1243    Einsteins in general has mediocre bagels at be...\n",
       "9984    Went last night to Whore Foods to get basics t...\n",
       "5237    My love affair with Fate ended when Johnny lef...\n",
       "3628    I have been to a buffet like this before, but ...\n",
       "8829    The parking is my beef with this place.  Why d...\n",
       "9183    The food is simple, pure and uncomplicated; yo...\n",
       "9026    Quick spot for a mall-made mayo-based Californ...\n",
       "Name: text, dtype: object"
      ]
     },
     "execution_count": 97,
     "metadata": {},
     "output_type": "execute_result"
    }
   ],
   "source": [
    "# false positives: predictions are positive (5-star) but actuals are negative (1-star)\n",
    "X_test[y_test < y_predict][10:20]"
   ]
  },
  {
   "cell_type": "code",
   "execution_count": 98,
   "metadata": {
    "collapsed": false
   },
   "outputs": [
    {
     "data": {
      "text/plain": [
       "750     This store has the most pleasant employees of ...\n",
       "5805    One of our Lexus car keys/key fob was cracked ...\n",
       "2306    There are certain people in your life that you...\n",
       "921     Just because i feel like doing something diffe...\n",
       "2127    This place is great!  I called at 8:30 am to m...\n",
       "8571    If it's an emergency, they will generally see ...\n",
       "Name: text, dtype: object"
      ]
     },
     "execution_count": 98,
     "metadata": {},
     "output_type": "execute_result"
    }
   ],
   "source": [
    "# false negatives: predictions are negative (1-star) but actuals are positive (5-star)\n",
    "X_test[y_test > y_predict][10:20]"
   ]
  },
  {
   "cell_type": "markdown",
   "metadata": {},
   "source": [
    "Conclusion: Probably getting confused because of positive words in negative reviews and negative words in positive reviews. (Not enough time to look into the text in detail.)"
   ]
  },
  {
   "cell_type": "markdown",
   "metadata": {},
   "source": [
    "**10.** Let's pretend that you want to balance sensitivity and specificity. You can achieve this by changing the threshold for predicting a 5-star review. What threshold approximately balances sensitivity and specificity?"
   ]
  },
  {
   "cell_type": "code",
   "execution_count": null,
   "metadata": {
    "collapsed": true
   },
   "outputs": [],
   "source": [
    "# have to try the different thresholds and \n",
    "# find the threshold where sensitivity and \n",
    "# specificity are roughly equal.\n",
    "\n",
    "# TODO"
   ]
  },
  {
   "cell_type": "markdown",
   "metadata": {},
   "source": [
    "**11.** Let's see how well Naive Bayes performs when all reviews are included, rather than just 1-star and 5-star reviews:"
   ]
  },
  {
   "cell_type": "markdown",
   "metadata": {},
   "source": [
    "- Define X and y using the original DataFrame from step 1. (y should contain 5 different classes.)"
   ]
  },
  {
   "cell_type": "code",
   "execution_count": 100,
   "metadata": {
    "collapsed": true
   },
   "outputs": [],
   "source": [
    "X = yelp[\"text\"]\n",
    "y = yelp[\"stars\"]"
   ]
  },
  {
   "cell_type": "markdown",
   "metadata": {},
   "source": [
    "- Split the data into training and testing sets."
   ]
  },
  {
   "cell_type": "code",
   "execution_count": null,
   "metadata": {
    "collapsed": true
   },
   "outputs": [],
   "source": [
    "X_train, X_test, y_train, y_test = train_test_split(X, y, random_state=123)"
   ]
  },
  {
   "cell_type": "markdown",
   "metadata": {},
   "source": [
    "- Calculate the testing accuracy of a Naive Bayes model."
   ]
  },
  {
   "cell_type": "markdown",
   "metadata": {},
   "source": [
    "# ------ out of time ------"
   ]
  }
 ],
 "metadata": {
  "kernelspec": {
   "display_name": "Python 2",
   "language": "python",
   "name": "python2"
  },
  "language_info": {
   "codemirror_mode": {
    "name": "ipython",
    "version": 2
   },
   "file_extension": ".py",
   "mimetype": "text/x-python",
   "name": "python",
   "nbconvert_exporter": "python",
   "pygments_lexer": "ipython2",
   "version": "2.7.11"
  }
 },
 "nbformat": 4,
 "nbformat_minor": 0
}
