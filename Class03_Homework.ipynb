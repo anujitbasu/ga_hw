{
 "cells": [
  {
   "cell_type": "markdown",
   "metadata": {},
   "source": [
    "#Class 03 : Python Homework with Chipotle Data\n",
    "Anujit Basu"
   ]
  },
  {
   "cell_type": "markdown",
   "metadata": {},
   "source": [
    "**PART 1:** Read in the file with csv.reader() and store it in an object called 'file_nested_list'."
   ]
  },
  {
   "cell_type": "code",
   "execution_count": 1,
   "metadata": {
    "collapsed": false
   },
   "outputs": [],
   "source": [
    "import csv\n",
    "\n",
    "# open the data file using relative path; \n",
    "# create a csv reader with a TAB delimiter;\n",
    "# create file_nested_list as an empty list;\n",
    "# iterate through the reader and append each row to the list\n",
    "with open('../DAT-DC-10/data/chipotle.tsv','rU') as d_file:\n",
    "    c_reader = csv.reader(d_file, delimiter = '\\t')\n",
    "    file_nested_list = []\n",
    "    for item in c_reader:\n",
    "        file_nested_list.append(item)\n",
    "\n",
    "\n",
    "#List Comprehension Equivalent: \n",
    "#        file_nested_list = [item for item in csv.reader(d_file, delimiter = '\\t')]\n"
   ]
  },
  {
   "cell_type": "code",
   "execution_count": 2,
   "metadata": {
    "collapsed": false
   },
   "outputs": [
    {
     "data": {
      "text/plain": [
       "[['order_id', 'quantity', 'item_name', 'choice_description', 'item_price'],\n",
       " ['1', '1', 'Chips and Fresh Tomato Salsa', 'NULL', '$2.39 '],\n",
       " ['1', '1', 'Izze', '[Clementine]', '$3.39 '],\n",
       " ['1', '1', 'Nantucket Nectar', '[Apple]', '$3.39 '],\n",
       " ['1', '1', 'Chips and Tomatillo-Green Chili Salsa', 'NULL', '$2.39 ']]"
      ]
     },
     "execution_count": 2,
     "metadata": {},
     "output_type": "execute_result"
    }
   ],
   "source": [
    "# Look at the top lines\n",
    "file_nested_list[0:5]"
   ]
  },
  {
   "cell_type": "markdown",
   "metadata": {},
   "source": [
    "**PART 2**: Separate 'file_nested_list' into the 'header' and the 'data'."
   ]
  },
  {
   "cell_type": "code",
   "execution_count": 3,
   "metadata": {
    "collapsed": true
   },
   "outputs": [],
   "source": [
    "# The first item in the list is the header and the rest is data\n",
    "header = file_nested_list[0]\n",
    "data = file_nested_list[1:]"
   ]
  },
  {
   "cell_type": "code",
   "execution_count": 4,
   "metadata": {
    "collapsed": false
   },
   "outputs": [
    {
     "data": {
      "text/plain": [
       "['order_id', 'quantity', 'item_name', 'choice_description', 'item_price']"
      ]
     },
     "execution_count": 4,
     "metadata": {},
     "output_type": "execute_result"
    }
   ],
   "source": [
    "header"
   ]
  },
  {
   "cell_type": "code",
   "execution_count": 5,
   "metadata": {
    "collapsed": false
   },
   "outputs": [
    {
     "data": {
      "text/plain": [
       "[['1', '1', 'Chips and Fresh Tomato Salsa', 'NULL', '$2.39 '],\n",
       " ['1', '1', 'Izze', '[Clementine]', '$3.39 '],\n",
       " ['1', '1', 'Nantucket Nectar', '[Apple]', '$3.39 '],\n",
       " ['1', '1', 'Chips and Tomatillo-Green Chili Salsa', 'NULL', '$2.39 ']]"
      ]
     },
     "execution_count": 5,
     "metadata": {},
     "output_type": "execute_result"
    }
   ],
   "source": [
    "data[0:4]"
   ]
  },
  {
   "cell_type": "markdown",
   "metadata": {},
   "source": [
    "Since **header** was only the first item of the list, it is a list of strings. And **data** is the rest of the list, therefore it retains the structure of *file_nested_list* (list of a list of strings)."
   ]
  },
  {
   "cell_type": "markdown",
   "metadata": {},
   "source": [
    "**PART 3:** Calculate the average price of an order.\n",
    "\n",
    "*Note:* Quantity has no relevance in the price indicated in each line. I investigated this in Class 02 Homework."
   ]
  },
  {
   "cell_type": "code",
   "execution_count": 6,
   "metadata": {
    "collapsed": true
   },
   "outputs": [],
   "source": [
    "total_order_value = 0.0\n",
    "\n",
    "# iterate through the data list, and sum up the last column\n",
    "# the last column is a string with a '$'. Replace the $ with \n",
    "# an empty string and create a float before adding to the \n",
    "# total_order_value\n",
    "for item in data:\n",
    "    total_order_value += float(item[4].replace('$',''))"
   ]
  },
  {
   "cell_type": "code",
   "execution_count": 7,
   "metadata": {
    "collapsed": false,
    "scrolled": true
   },
   "outputs": [
    {
     "data": {
      "text/plain": [
       "34500.16000000046"
      ]
     },
     "execution_count": 7,
     "metadata": {},
     "output_type": "execute_result"
    }
   ],
   "source": [
    "total_order_value"
   ]
  },
  {
   "cell_type": "code",
   "execution_count": 8,
   "metadata": {
    "collapsed": true
   },
   "outputs": [],
   "source": [
    "number_of_orders = 0\n",
    "\n",
    "# create list of order_id from the data. There are repeats.\n",
    "# get the uniques using the set() function\n",
    "distinct_order_ids = set([item[0] for item in data])\n",
    "\n",
    "#the number of orders is the length of this uniques set\n",
    "number_of_orders = len(distinct_order_ids)"
   ]
  },
  {
   "cell_type": "code",
   "execution_count": 9,
   "metadata": {
    "collapsed": false
   },
   "outputs": [
    {
     "data": {
      "text/plain": [
       "1834"
      ]
     },
     "execution_count": 9,
     "metadata": {},
     "output_type": "execute_result"
    }
   ],
   "source": [
    "number_of_orders"
   ]
  },
  {
   "cell_type": "code",
   "execution_count": 11,
   "metadata": {
    "collapsed": false
   },
   "outputs": [
    {
     "name": "stdout",
     "output_type": "stream",
     "text": [
      "Average Order Value = $18.81\n"
     ]
    }
   ],
   "source": [
    "average_order_value = round(total_order_value / number_of_orders,2)\n",
    "\n",
    "print 'Average Order Value = $' + str(average_order_value)"
   ]
  },
  {
   "cell_type": "markdown",
   "metadata": {},
   "source": [
    "**PART 4**: Create a list (or set) of all unique sodas and soft drinks that they sell.\n",
    "\n",
    "*Note: Just look for 'Canned Soda' and 'Canned Soft Drink', and ignore other drinks like 'Izze'.*"
   ]
  },
  {
   "cell_type": "code",
   "execution_count": 13,
   "metadata": {
    "collapsed": false
   },
   "outputs": [
    {
     "name": "stdout",
     "output_type": "stream",
     "text": [
      "set(['Sprite', 'Coke', 'Lemonade', 'Coca Cola', 'Diet Dr. Pepper', 'Diet Coke', 'Dr. Pepper', 'Nestea', 'Mountain Dew'])\n"
     ]
    }
   ],
   "source": [
    "soda_items = set([item[3][1:-1] for item in data if 'Canned' in item[2]])\n",
    "print soda_items"
   ]
  },
  {
   "cell_type": "markdown",
   "metadata": {},
   "source": [
    "**PART 5**: Calculate the average number of toppings per burrito.\n",
    "\n",
    "*Note: Let's ignore the 'quantity' column to simplify this task.\n",
    "Hint: Think carefully about the easiest way to count the number of toppings!*"
   ]
  },
  {
   "cell_type": "code",
   "execution_count": 16,
   "metadata": {
    "collapsed": false
   },
   "outputs": [
    {
     "name": "stdout",
     "output_type": "stream",
     "text": [
      "Number of Burritos: 1172\n",
      "Number of Toppings: 6323\n",
      "Toppings per Burrito: 5.395\n"
     ]
    }
   ],
   "source": [
    "burrito_toppings = [item[3] for item in data if 'Burrito' in item[2]]\n",
    "\n",
    "number_of_burritos = len(burrito_toppings)\n",
    "\n",
    "number_of_toppings = 0\n",
    "for toppings in burrito_toppings:\n",
    "    number_of_toppings += (toppings.count(',') + 1)\n",
    "\n",
    "print 'Number of Burritos: ' + str(number_of_burritos)\n",
    "print 'Number of Toppings: ' + str(number_of_toppings)\n",
    "\n",
    "toppings_per_burrito = round(number_of_toppings/float(number_of_burritos),3)\n",
    "\n",
    "print 'Toppings per Burrito: ' + str(toppings_per_burrito)"
   ]
  },
  {
   "cell_type": "markdown",
   "metadata": {},
   "source": [
    "**PART 6:** Create a dictionary in which the keys represent chip orders and the values represent the total number of orders.\n",
    "\n",
    "Expected output: {'Chips and Roasted Chili-Corn Salsa': 18, ... }\n",
    "\n",
    "**Note:** *Please take the 'quantity' column into account!*\n",
    "\n",
    "**Optional:** *Learn how to use 'defaultdict' to simplify your code.*"
   ]
  },
  {
   "cell_type": "code",
   "execution_count": 17,
   "metadata": {
    "collapsed": false
   },
   "outputs": [
    {
     "name": "stdout",
     "output_type": "stream",
     "text": [
      "{'Chips and Roasted Chili-Corn Salsa': 18, 'Chips and Tomatillo-Red Chili Salsa': 25, 'Chips and Mild Fresh Tomato Salsa': 1, 'Chips and Guacamole': 506, 'Chips and Fresh Tomato Salsa': 130, 'Chips and Tomatillo Red Chili Salsa': 50, 'Chips and Tomatillo-Green Chili Salsa': 33, 'Side of Chips': 110, 'Chips and Roasted Chili Corn Salsa': 23, 'Chips': 230, 'Chips and Tomatillo Green Chili Salsa': 45}\n"
     ]
    }
   ],
   "source": [
    "chip_dict = {}\n",
    "\n",
    "for item in data:\n",
    "    if 'Chip' in item[2]:\n",
    "        if item[2] in chip_dict:\n",
    "            chip_dict[item[2]] += int(item[1]) # add Quantity\n",
    "        else:\n",
    "            chip_dict[item[2]] = int(item[1])  # initialize with Quantity\n",
    "\n",
    "print chip_dict"
   ]
  },
  {
   "cell_type": "code",
   "execution_count": 18,
   "metadata": {
    "collapsed": false
   },
   "outputs": [
    {
     "name": "stdout",
     "output_type": "stream",
     "text": [
      "defaultdict(<type 'int'>, {'Chips and Roasted Chili-Corn Salsa': 18, 'Chips and Tomatillo-Red Chili Salsa': 25, 'Chips and Mild Fresh Tomato Salsa': 1, 'Chips and Guacamole': 506, 'Chips and Fresh Tomato Salsa': 130, 'Chips and Tomatillo Red Chili Salsa': 50, 'Chips and Tomatillo-Green Chili Salsa': 33, 'Side of Chips': 110, 'Chips and Roasted Chili Corn Salsa': 23, 'Chips': 230, 'Chips and Tomatillo Green Chili Salsa': 45})\n"
     ]
    }
   ],
   "source": [
    "# defaultdict allows us to skip the process of initializing the dictionary\n",
    "from collections import defaultdict\n",
    "\n",
    "chip_dict = defaultdict(int)\n",
    "for item in data:\n",
    "    if 'Chips' in item[2]:\n",
    "        chip_dict[item[2]] += int(item[1]) # add Quantity\n",
    "        \n",
    "print chip_dict"
   ]
  }
 ],
 "metadata": {
  "kernelspec": {
   "display_name": "Python 2",
   "language": "python",
   "name": "python2"
  },
  "language_info": {
   "codemirror_mode": {
    "name": "ipython",
    "version": 2
   },
   "file_extension": ".py",
   "mimetype": "text/x-python",
   "name": "python",
   "nbconvert_exporter": "python",
   "pygments_lexer": "ipython2",
   "version": "2.7.10"
  }
 },
 "nbformat": 4,
 "nbformat_minor": 0
}
